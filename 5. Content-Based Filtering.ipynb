{
 "cells": [
  {
   "cell_type": "code",
   "execution_count": 63,
   "metadata": {},
   "outputs": [
    {
     "data": {
      "text/html": [
       "<style>.container { width:98% !important; }</style>"
      ],
      "text/plain": [
       "<IPython.core.display.HTML object>"
      ]
     },
     "metadata": {},
     "output_type": "display_data"
    }
   ],
   "source": [
    "# Widen width of notebook\n",
    "from IPython.core.display import display, HTML\n",
    "display(HTML(\"<style>.container { width:98% !important; }</style>\"))"
   ]
  },
  {
   "cell_type": "code",
   "execution_count": 64,
   "metadata": {},
   "outputs": [],
   "source": [
    "import matplotlib.pyplot as plt\n",
    "from wordcloud import WordCloud\n",
    "\n",
    "import numpy as np \n",
    "import pandas as pd\n",
    "import string\n",
    "import re \n",
    "\n",
    "from nltk.corpus import stopwords\n",
    "import nltk\n",
    "# nltk.download('stopwords')\n",
    "from nltk.tokenize import word_tokenize\n",
    "\n",
    "from sklearn.feature_extraction.text import CountVectorizer\n",
    "from nltk.tokenize import WordPunctTokenizer\n",
    "from gensim.parsing.preprocessing import remove_stopwords,strip_numeric,strip_non_alphanum,strip_punctuation,strip_multiple_whitespaces\n",
    "\n",
    "from scipy import sparse\n",
    "from scipy.spatial.distance import cdist\n",
    "\n",
    "import warnings; warnings.simplefilter('ignore')"
   ]
  },
  {
   "cell_type": "code",
   "execution_count": 65,
   "metadata": {},
   "outputs": [],
   "source": [
    "nv = pd.read_csv('filted_nv.csv')"
   ]
  },
  {
   "cell_type": "code",
   "execution_count": 66,
   "metadata": {},
   "outputs": [],
   "source": [
    "# Further remove noise\n",
    "df_nv = nv[nv['categories'].str.contains('Refinishing') == False]\n",
    "df_nv = df_nv[df_nv['categories'].str.contains('Hotels') == False]\n",
    "df_nv = df_nv[df_nv['categories'].str.contains('Event Planning & Services') == False]\n",
    "df_nv = df_nv[df_nv['categories'].str.contains('Shopping') == False]\n",
    "\n",
    "df_review_user =  df_nv.loc[:][['user_id','business_id','categories','stars_r','stars_b','text']]\n",
    "\n",
    "# pd.set_option('display.max_colwidth', None)\n",
    "# df_review_user[500:550]"
   ]
  },
  {
   "cell_type": "code",
   "execution_count": 67,
   "metadata": {},
   "outputs": [
    {
     "data": {
      "text/html": [
       "<div>\n",
       "<style scoped>\n",
       "    .dataframe tbody tr th:only-of-type {\n",
       "        vertical-align: middle;\n",
       "    }\n",
       "\n",
       "    .dataframe tbody tr th {\n",
       "        vertical-align: top;\n",
       "    }\n",
       "\n",
       "    .dataframe thead th {\n",
       "        text-align: right;\n",
       "    }\n",
       "</style>\n",
       "<table border=\"1\" class=\"dataframe\">\n",
       "  <thead>\n",
       "    <tr style=\"text-align: right;\">\n",
       "      <th></th>\n",
       "      <th>user_id</th>\n",
       "      <th>business_id</th>\n",
       "      <th>categories</th>\n",
       "      <th>stars_r</th>\n",
       "      <th>stars_b</th>\n",
       "      <th>text</th>\n",
       "    </tr>\n",
       "  </thead>\n",
       "  <tbody>\n",
       "  </tbody>\n",
       "</table>\n",
       "</div>"
      ],
      "text/plain": [
       "Empty DataFrame\n",
       "Columns: [user_id, business_id, categories, stars_r, stars_b, text]\n",
       "Index: []"
      ]
     },
     "execution_count": 67,
     "metadata": {},
     "output_type": "execute_result"
    }
   ],
   "source": [
    "# Remove review where text = nan\n",
    "df_review_user = df_review_user[~df_review_user['text'].isnull()]\n",
    "df_review_user[df_review_user['text'].isnull() == True]"
   ]
  },
  {
   "cell_type": "code",
   "execution_count": 68,
   "metadata": {},
   "outputs": [
    {
     "data": {
      "text/plain": [
       "(1249176, 6)"
      ]
     },
     "execution_count": 68,
     "metadata": {},
     "output_type": "execute_result"
    }
   ],
   "source": [
    "df_review_user.shape"
   ]
  },
  {
   "cell_type": "code",
   "execution_count": 69,
   "metadata": {},
   "outputs": [],
   "source": [
    "# # Initialize the word cloud\n",
    "# wc = WordCloud(width = 500, height = 500, min_font_size = 10, background_color ='white')\n",
    "# cate = df_nv['text'].str.cat(sep=' ')\n",
    "# cate_wc = wc.generate(cate)\n",
    "    \n",
    "# # plot\n",
    "# plt.figure(figsize = (5, 5), facecolor = None) \n",
    "# plt.imshow(cate_wc) \n",
    "# plt.axis(\"off\") \n",
    "# plt.title(\"Word Cloud for Reviews\")\n",
    "# plt.tight_layout(pad = 0) \n",
    "# plt.show()"
   ]
  },
  {
   "cell_type": "code",
   "execution_count": 70,
   "metadata": {},
   "outputs": [],
   "source": [
    "contractions = {\n",
    "\"ain't\": \"am not\",\"aren't\": \"are not\",\"can't\": \"cannot\",\"can't've\": \"cannot have\",\"'cause\": \"because\",\n",
    "\"could've\": \"could have\",\"couldn't\": \"could not\",\"couldn't've\": \"could not have\",\"didn't\": \"did not\",\n",
    "\"doesn't\": \"does not\",\"don't\": \"do not\",\"hadn't\": \"had not\",\"hadn't've\": \"had not have\",\n",
    "\"hasn't\": \"has not\",\"haven't\": \"have not\",\"he'd\": \"he would\",\"he'd've\": \"he would have\",\n",
    "\"he'll\": \"he will\",\"he'll've\": \"he will have\",\"he's\": \"he is\",\"how'd\": \"how did\",\"how'd'y\": \"how do you\",\n",
    "\"how'll\": \"how will\",\"how's\": \"how is\",\"i'd\": \"I would\",\"i'd've\": \"I would have\",\"i'll\": \"I will\",\n",
    "\"i'm\": \"I am\",\"i've\": \"I have\",\"isn't\": \"is not\",\"it'd\": \"it would\",\"it'd've\": \"it would have\",\n",
    "\"it'll\": \"it will\",\"it's\": \"it is\",\"let's\": \"let us\",\"ma'am\": \"madam\",\"mayn't\": \"may not\",\"might've\": \"might have\",\n",
    "\"mightn't\": \"might not\",\"mightn't've\": \"might not have\",\"must've\": \"must have\",\"mustn't\": \"must not\",\n",
    "\"mustn't've\": \"must not have\",\"needn't\": \"need not\",\"needn't've\": \"need not have\",\"o'clock\": \"of the clock\",\n",
    "\"oughtn't\": \"ought not\",\"oughtn't've\": \"ought not have\",\"shan't\": \"shall not\",\"sha'n't\": \"shall not\",\n",
    "\"shan't've\": \"shall not have\",\"she'd've\": \"she would have\",\"she'll\": \"she will\",\"she's\": \"she is\",\n",
    "\"should've\": \"should have\",\"shouldn't\": \"should not\",\"shouldn't've\": \"should not have\",\"that's\": \"that is\",\n",
    "\"there'd've\": \"there would have\",\"there's\": \"there is\",\"they'd've\": \"they would have\",\"they'll\": \"will\",\n",
    "\"they're\": \"they are\",\"they've\": \"they have\",\"to've\": \"to have\",\"wasn't\": \"was not\",\"we'd've\": \"we would have\",\n",
    "\"we'll\": \"we will\",\"we'll've\": \"we will have\",\"we're\": \"we are\",\"we've\": \"we have\",\"weren't\": \"were not\",\n",
    "\"what're\": \"what are\",\"what's\": \"what is\",\"what've\": \"what have\",\"when've\": \"when have\",\"where'd\": \"where did\",\n",
    "\"where's\": \"where is\",\"where've\": \"where have\",\"who'll\": \"who will\",\"who's\": \"who is\",\"who've\": \"who have\",\n",
    "\"why've\": \"why have\",\"will've\": \"will have\",\"won't\": \"will not\",\"won't've\": \"will not have\",\"would've\": \"would have\",\n",
    "\"wouldn't\": \"would not\",\"wouldn't've\": \"would not have\",\"y'all\": \"you all\",\"y'all'd\": \"you all would\",\n",
    "\"y'all'd've\": \"you all would have\",\"y'all're\": \"you all are\",\"y'all've\": \"you all have\",\"you'd\": \"you would\",\n",
    "\"you'd've\": \"you would have\",\"you'll\": \"you will\",\"you're\": \"you are\",\"you've\": \"you have\"\n",
    "}"
   ]
  },
  {
   "cell_type": "code",
   "execution_count": 71,
   "metadata": {},
   "outputs": [],
   "source": [
    "def isEnglish(s):\n",
    "    try:\n",
    "        s.encode(encoding='utf-8').decode('ascii')\n",
    "    except UnicodeDecodeError:\n",
    "        return False\n",
    "    else:\n",
    "        return True\n",
    "\n",
    "def clean_text(text):\n",
    "    \n",
    "    try:\n",
    "        text = text.lower()\n",
    "    \n",
    "        # Replace contractions\n",
    "        for word in text.split():\n",
    "            if word.lower() in contractions:\n",
    "                text = text.replace(word, contractions[word.lower()])\n",
    "        \n",
    "        for word in text.split():\n",
    "            if isEnglish(word) == False:\n",
    "                text = text.replace(word,\" \")\n",
    "        \n",
    "#         text = re.sub(\"[^a-zA-Z0-9]+\",\" \",text)\n",
    "        text = strip_multiple_whitespaces(text)\n",
    "        text = strip_numeric(text)\n",
    "        text = text.translate(str.maketrans(' ',' ','!\"#$%&\\'()*+,./:-;<=>?@[\\\\]^_`{|}~'))\n",
    "        \n",
    "        if isEnglish(text) == False:\n",
    "            text = \"\"\n",
    "    except:\n",
    "        a = 1\n",
    "    return text.strip()"
   ]
  },
  {
   "cell_type": "code",
   "execution_count": 72,
   "metadata": {},
   "outputs": [],
   "source": [
    "# text = \"What's the a not the best way to ensure this?\"\n",
    "# clean_text(text)\n",
    "df_review_user['text_clean'] = df_review_user['text'].apply(clean_text)"
   ]
  },
  {
   "cell_type": "code",
   "execution_count": 73,
   "metadata": {},
   "outputs": [
    {
     "data": {
      "text/html": [
       "<div>\n",
       "<style scoped>\n",
       "    .dataframe tbody tr th:only-of-type {\n",
       "        vertical-align: middle;\n",
       "    }\n",
       "\n",
       "    .dataframe tbody tr th {\n",
       "        vertical-align: top;\n",
       "    }\n",
       "\n",
       "    .dataframe thead th {\n",
       "        text-align: right;\n",
       "    }\n",
       "</style>\n",
       "<table border=\"1\" class=\"dataframe\">\n",
       "  <thead>\n",
       "    <tr style=\"text-align: right;\">\n",
       "      <th></th>\n",
       "      <th>user_id</th>\n",
       "      <th>business_id</th>\n",
       "      <th>categories</th>\n",
       "      <th>stars_r</th>\n",
       "      <th>stars_b</th>\n",
       "      <th>text</th>\n",
       "      <th>text_clean</th>\n",
       "    </tr>\n",
       "  </thead>\n",
       "  <tbody>\n",
       "  </tbody>\n",
       "</table>\n",
       "</div>"
      ],
      "text/plain": [
       "Empty DataFrame\n",
       "Columns: [user_id, business_id, categories, stars_r, stars_b, text, text_clean]\n",
       "Index: []"
      ]
     },
     "execution_count": 73,
     "metadata": {},
     "output_type": "execute_result"
    }
   ],
   "source": [
    "# Remove other languages\n",
    "df_review_user['text_clean'].replace('', np.nan, inplace=True)\n",
    "\n",
    "# check null \n",
    "df_review_user = df_review_user[~df_review_user['text_clean'].isnull()]\n",
    "df_review_user[df_review_user['text_clean'].isnull() == True]"
   ]
  },
  {
   "cell_type": "markdown",
   "metadata": {},
   "source": [
    "## ngram_range (1,3)"
   ]
  },
  {
   "cell_type": "code",
   "execution_count": 74,
   "metadata": {},
   "outputs": [],
   "source": [
    "all_stopwords = stopwords.words('english')\n",
    "all_stopwords.remove('not')\n",
    "all_stopwords.remove('nor')\n",
    "\n",
    "# vectorizer_reviews = CountVectorizer(stop_words = all_stopwords,ngram_range = (1,3))\n",
    "vectorizer_reviews = CountVectorizer(min_df = .001,stop_words = all_stopwords,ngram_range = (1,3))"
   ]
  },
  {
   "cell_type": "code",
   "execution_count": 75,
   "metadata": {},
   "outputs": [],
   "source": [
    "vectorized_reviews = vectorizer_reviews.fit_transform(df_review_user['text_clean'])"
   ]
  },
  {
   "cell_type": "code",
   "execution_count": 76,
   "metadata": {},
   "outputs": [
    {
     "data": {
      "text/plain": [
       "'would great | would highly | would highly recommend | would like | would liked | would love | would make | would much | would never | would nice | would not | would not come | would not even | would not go | would not order | would not recommend | would order | would ordered | would pay | would preferred | would probably | would rate | would rather | would recommend | would recommend anyone | would recommend place | would return | would say | would still | would suggest | would take | would think | would try | would want | wow | wow place | wowed | wrap | wrapped | wraps | write | write home | write review | writing | writing review | written | wrong | wrong food | wrong not | wrong order | wrote | wtf | wynn | ya | yard | yard house | yay | yea | yeah | year | year ago | year old | years | years ago | years never | yell | yelling | yellow | yellow curry | yellowtail | yelp | yelp review | yelp reviews | yelpers | yep | yes | yesterday | yet | yet not | yo | yogurt | yolk | york | york new | york new york | york strip | york style | young | young lady | young man | younger | yuck | yum | yum yum | yummy | yummy food | yuzu | zero | zero stars | zucchini'"
      ]
     },
     "execution_count": 76,
     "metadata": {},
     "output_type": "execute_result"
    }
   ],
   "source": [
    "' | '.join(vectorizer_reviews.get_feature_names()[-100:])"
   ]
  },
  {
   "cell_type": "code",
   "execution_count": 77,
   "metadata": {},
   "outputs": [],
   "source": [
    "# pd.set_option('display.max_colwidth', None)\n",
    "# df_review_user[df_review_user['text_clean'].str.contains('zz') == True]\n",
    "# # # # df_review_user[df_review_user['text_clean'] == \"\"]"
   ]
  },
  {
   "cell_type": "code",
   "execution_count": 78,
   "metadata": {},
   "outputs": [],
   "source": [
    "def clean_cat_text(text):\n",
    "    text = text.replace(\"Restaurants\",\" \")       \n",
    "    return text\n",
    "\n",
    "df_business_cat = df_review_user.drop_duplicates(subset=['business_id'], keep='last')"
   ]
  },
  {
   "cell_type": "code",
   "execution_count": 79,
   "metadata": {},
   "outputs": [],
   "source": [
    "df_business_cat['new_categories'] = df_business_cat['categories'].apply(clean_cat_text)"
   ]
  },
  {
   "cell_type": "code",
   "execution_count": 80,
   "metadata": {},
   "outputs": [],
   "source": [
    "vectorizer_categories = CountVectorizer(min_df = 1, max_df = 1., tokenizer = lambda x: x.split(', '))\n",
    "vectorized_categories = vectorizer_categories.fit_transform(df_business_cat['new_categories'])"
   ]
  },
  {
   "cell_type": "code",
   "execution_count": 81,
   "metadata": {},
   "outputs": [
    {
     "data": {
      "text/plain": [
       "'  | acai bowls | active life | acupuncture | adult entertainment | afghan | african | air duct cleaning | aircraft repairs | airsoft | amateur sports teams | american (new) | american (traditional) | amusement parks | animal assisted therapy | animal physical therapy | animal shelters | arabian | arcades | argentine | armenian | arts & entertainment | asian fusion | austrian | auto customization | auto detailing | auto glass services | auto insurance | auto parts & supplies | auto repair | automotive | bagels | bakeries | bangladeshi | bankruptcy law | banks & credit unions | bar crawl | barbeque | bars | beach bars | beauty & spas | beer | beer bar | beer garden | beer gardens | belgian | bingo halls | bistros | body shops | bowling | brasseries | brazilian | brazilian jiu-jitsu | breakfast & brunch | breweries | brewpubs | british | bubble tea | buffets | burgers | business consulting | butcher | cabaret | cafes | cafeteria | cajun/creole | candy stores | cantonese | car wash | car window tinting | caribbean | casinos | cheese shops | cheesesteaks | chicken shop | chicken wings | chinese | chocolatiers & shops | cinema | cocktail bars | coffee & tea | coffee roasteries | coffeeshops | colleges & universities | colombian | comedy clubs | comfort food | commercial truck repair | convenience stores | conveyor belt sushi | cosmetic dentists | country dance halls | couriers & delivery services | courthouses | creperies | cuban | cultural center | cupcakes | custom cakes | dance clubs'"
      ]
     },
     "execution_count": 81,
     "metadata": {},
     "output_type": "execute_result"
    }
   ],
   "source": [
    "' | '.join(vectorizer_categories.get_feature_names()[:100]) # only the first 100"
   ]
  },
  {
   "cell_type": "code",
   "execution_count": 82,
   "metadata": {},
   "outputs": [],
   "source": [
    "businessxreview = sparse.csr_matrix(pd.get_dummies(df_review_user['business_id']).values)"
   ]
  },
  {
   "cell_type": "code",
   "execution_count": 83,
   "metadata": {},
   "outputs": [
    {
     "name": "stdout",
     "output_type": "stream",
     "text": [
      "restuarants x categories: \t (4906, 365)\n",
      "restuarants x reviews: \t\t (1248718, 4906)\n",
      "reviews x words: \t\t (1248718, 7540)\n"
     ]
    }
   ],
   "source": [
    "print('restuarants x categories: \\t', vectorized_categories.shape) \n",
    "print('restuarants x reviews: \\t\\t' , businessxreview.shape) \n",
    "print('reviews x words: \\t\\t', vectorized_reviews.shape)"
   ]
  },
  {
   "cell_type": "code",
   "execution_count": 84,
   "metadata": {},
   "outputs": [],
   "source": [
    "user_selection = '4JNXUYY8wbaaDmk3BPzlWw'"
   ]
  },
  {
   "cell_type": "code",
   "execution_count": 85,
   "metadata": {},
   "outputs": [],
   "source": [
    "business_reviews = df_review_user.loc[df_review_user['business_id'] == user_selection, 'text_clean']\n",
    "business_categories = df_review_user.loc[df_review_user['business_id'] == user_selection, 'categories']"
   ]
  },
  {
   "cell_type": "code",
   "execution_count": 86,
   "metadata": {},
   "outputs": [],
   "source": [
    "# find most similar reviews\n",
    "reviewdist = cdist(vectorizer_reviews.transform(business_reviews).todense().mean(axis=0), \n",
    "              vectorized_reviews.T.dot(businessxreview).T.todense(), \n",
    "               metric='correlation')\n",
    "\n",
    "# find most similar categories\n",
    "catdist = cdist(vectorizer_categories.transform(business_categories).todense().mean(axis=0), \n",
    "              vectorized_categories.todense(), \n",
    "               metric='correlation')\n",
    "\n",
    "dists_cat_review = np.vstack([reviewdist.ravel(), catdist.ravel()]).T\n",
    "dists = dists_cat_review.mean(axis=1)"
   ]
  },
  {
   "cell_type": "code",
   "execution_count": 87,
   "metadata": {},
   "outputs": [],
   "source": [
    "closest = dists.argsort().ravel()\n",
    "\n",
    "biz_index = closest[1:11]\n",
    "biz_list = df_business_cat.iloc[biz_index]['business_id']"
   ]
  },
  {
   "cell_type": "code",
   "execution_count": 88,
   "metadata": {},
   "outputs": [
    {
     "data": {
      "text/html": [
       "<div>\n",
       "<style scoped>\n",
       "    .dataframe tbody tr th:only-of-type {\n",
       "        vertical-align: middle;\n",
       "    }\n",
       "\n",
       "    .dataframe tbody tr th {\n",
       "        vertical-align: top;\n",
       "    }\n",
       "\n",
       "    .dataframe thead th {\n",
       "        text-align: right;\n",
       "    }\n",
       "</style>\n",
       "<table border=\"1\" class=\"dataframe\">\n",
       "  <thead>\n",
       "    <tr style=\"text-align: right;\">\n",
       "      <th></th>\n",
       "      <th>business_id</th>\n",
       "      <th>categories</th>\n",
       "      <th>name_b</th>\n",
       "      <th>stars_b</th>\n",
       "    </tr>\n",
       "  </thead>\n",
       "  <tbody>\n",
       "    <tr>\n",
       "      <th>7</th>\n",
       "      <td>4JNXUYY8wbaaDmk3BPzlWw</td>\n",
       "      <td>Restaurants, French, Steakhouses, Food, Breakfast &amp; Brunch</td>\n",
       "      <td>Mon Ami Gabi</td>\n",
       "      <td>4.0</td>\n",
       "    </tr>\n",
       "  </tbody>\n",
       "</table>\n",
       "</div>"
      ],
      "text/plain": [
       "              business_id  \\\n",
       "7  4JNXUYY8wbaaDmk3BPzlWw   \n",
       "\n",
       "                                                   categories        name_b  \\\n",
       "7  Restaurants, French, Steakhouses, Food, Breakfast & Brunch  Mon Ami Gabi   \n",
       "\n",
       "   stars_b  \n",
       "7      4.0  "
      ]
     },
     "execution_count": 88,
     "metadata": {},
     "output_type": "execute_result"
    }
   ],
   "source": [
    "# Retrieve user selection\n",
    "df_nv.loc[df_nv['business_id']== '4JNXUYY8wbaaDmk3BPzlWw'][['business_id','categories','name_b','stars_b']].drop_duplicates(subset=['business_id'], keep='first')"
   ]
  },
  {
   "cell_type": "code",
   "execution_count": 89,
   "metadata": {},
   "outputs": [
    {
     "data": {
      "text/html": [
       "<div>\n",
       "<style scoped>\n",
       "    .dataframe tbody tr th:only-of-type {\n",
       "        vertical-align: middle;\n",
       "    }\n",
       "\n",
       "    .dataframe tbody tr th {\n",
       "        vertical-align: top;\n",
       "    }\n",
       "\n",
       "    .dataframe thead th {\n",
       "        text-align: right;\n",
       "    }\n",
       "</style>\n",
       "<table border=\"1\" class=\"dataframe\">\n",
       "  <thead>\n",
       "    <tr style=\"text-align: right;\">\n",
       "      <th></th>\n",
       "      <th>business_id</th>\n",
       "      <th>categories</th>\n",
       "      <th>name_b</th>\n",
       "      <th>stars_b</th>\n",
       "    </tr>\n",
       "  </thead>\n",
       "  <tbody>\n",
       "    <tr>\n",
       "      <th>226</th>\n",
       "      <td>IWN2heYitkg-D4UdqfxcMA</td>\n",
       "      <td>Nightlife, Bars, Restaurants, Cocktail Bars, Breakfast &amp; Brunch, Desserts, Food, Steakhouses, American (New)</td>\n",
       "      <td>HEXX kitchen + bar</td>\n",
       "      <td>4.0</td>\n",
       "    </tr>\n",
       "    <tr>\n",
       "      <th>443</th>\n",
       "      <td>TXS-9SUkjpZFz29XOB1SPg</td>\n",
       "      <td>Coffee &amp; Tea, Restaurants, Cafes, Food, Soul Food, Breakfast &amp; Brunch</td>\n",
       "      <td>M&amp;M Soul Food Cafe</td>\n",
       "      <td>2.5</td>\n",
       "    </tr>\n",
       "    <tr>\n",
       "      <th>625</th>\n",
       "      <td>DY1_vls0_VQnTZ7CJ3AeFQ</td>\n",
       "      <td>Buffets, Restaurants, Food, Breakfast &amp; Brunch</td>\n",
       "      <td>Feast Buffet</td>\n",
       "      <td>3.0</td>\n",
       "    </tr>\n",
       "    <tr>\n",
       "      <th>742</th>\n",
       "      <td>KalAJyO0Zpg3K1wVwYXBHA</td>\n",
       "      <td>Food, Beer, Wine &amp; Spirits, Wine Bars, Nightlife, French, Bars, Restaurants, Specialty Food, Breakfast &amp; Brunch</td>\n",
       "      <td>Marché Bacchus</td>\n",
       "      <td>3.5</td>\n",
       "    </tr>\n",
       "    <tr>\n",
       "      <th>1469</th>\n",
       "      <td>PkqN5st3zZ_Xce_5QlBtNQ</td>\n",
       "      <td>Breakfast &amp; Brunch, Restaurants, Coffee &amp; Tea, Hawaiian, Food</td>\n",
       "      <td>Cinnamon's</td>\n",
       "      <td>4.0</td>\n",
       "    </tr>\n",
       "    <tr>\n",
       "      <th>1940</th>\n",
       "      <td>BcW7Z9lPmOB_8eS2lEuOqQ</td>\n",
       "      <td>Japanese, Steakhouses, Sushi Bars, Restaurants, Food</td>\n",
       "      <td>Musashi Japanese Steakhouse</td>\n",
       "      <td>4.0</td>\n",
       "    </tr>\n",
       "    <tr>\n",
       "      <th>2517</th>\n",
       "      <td>XZ7eQLjyGXf6y69UT4SGhg</td>\n",
       "      <td>Cafes, Food, Creperies, Bakeries, French, Breakfast &amp; Brunch, Restaurants</td>\n",
       "      <td>Cafe Breizh</td>\n",
       "      <td>4.5</td>\n",
       "    </tr>\n",
       "    <tr>\n",
       "      <th>4917</th>\n",
       "      <td>jlpseJr1CS8aCMieENkQ8g</td>\n",
       "      <td>Breakfast &amp; Brunch, Delis, Bagels, Food, Restaurants</td>\n",
       "      <td>Einstein Bros</td>\n",
       "      <td>3.0</td>\n",
       "    </tr>\n",
       "    <tr>\n",
       "      <th>17148</th>\n",
       "      <td>T5nTtSCSRoEYMsZPhF61wg</td>\n",
       "      <td>Coffee &amp; Tea, Juice Bars &amp; Smoothies, Restaurants, Food, Breakfast &amp; Brunch</td>\n",
       "      <td>Waffles Cafe</td>\n",
       "      <td>4.0</td>\n",
       "    </tr>\n",
       "    <tr>\n",
       "      <th>41501</th>\n",
       "      <td>UGy0QULAPPRcOUJQSiRmGQ</td>\n",
       "      <td>Restaurants, Sandwiches, Juice Bars &amp; Smoothies, Food, Breakfast &amp; Brunch</td>\n",
       "      <td>Tropical Smoothie Cafe</td>\n",
       "      <td>3.0</td>\n",
       "    </tr>\n",
       "  </tbody>\n",
       "</table>\n",
       "</div>"
      ],
      "text/plain": [
       "                  business_id  \\\n",
       "226    IWN2heYitkg-D4UdqfxcMA   \n",
       "443    TXS-9SUkjpZFz29XOB1SPg   \n",
       "625    DY1_vls0_VQnTZ7CJ3AeFQ   \n",
       "742    KalAJyO0Zpg3K1wVwYXBHA   \n",
       "1469   PkqN5st3zZ_Xce_5QlBtNQ   \n",
       "1940   BcW7Z9lPmOB_8eS2lEuOqQ   \n",
       "2517   XZ7eQLjyGXf6y69UT4SGhg   \n",
       "4917   jlpseJr1CS8aCMieENkQ8g   \n",
       "17148  T5nTtSCSRoEYMsZPhF61wg   \n",
       "41501  UGy0QULAPPRcOUJQSiRmGQ   \n",
       "\n",
       "                                                                                                            categories  \\\n",
       "226       Nightlife, Bars, Restaurants, Cocktail Bars, Breakfast & Brunch, Desserts, Food, Steakhouses, American (New)   \n",
       "443                                              Coffee & Tea, Restaurants, Cafes, Food, Soul Food, Breakfast & Brunch   \n",
       "625                                                                     Buffets, Restaurants, Food, Breakfast & Brunch   \n",
       "742    Food, Beer, Wine & Spirits, Wine Bars, Nightlife, French, Bars, Restaurants, Specialty Food, Breakfast & Brunch   \n",
       "1469                                                     Breakfast & Brunch, Restaurants, Coffee & Tea, Hawaiian, Food   \n",
       "1940                                                              Japanese, Steakhouses, Sushi Bars, Restaurants, Food   \n",
       "2517                                         Cafes, Food, Creperies, Bakeries, French, Breakfast & Brunch, Restaurants   \n",
       "4917                                                              Breakfast & Brunch, Delis, Bagels, Food, Restaurants   \n",
       "17148                                      Coffee & Tea, Juice Bars & Smoothies, Restaurants, Food, Breakfast & Brunch   \n",
       "41501                                        Restaurants, Sandwiches, Juice Bars & Smoothies, Food, Breakfast & Brunch   \n",
       "\n",
       "                            name_b  stars_b  \n",
       "226             HEXX kitchen + bar      4.0  \n",
       "443             M&M Soul Food Cafe      2.5  \n",
       "625                   Feast Buffet      3.0  \n",
       "742                 Marché Bacchus      3.5  \n",
       "1469                    Cinnamon's      4.0  \n",
       "1940   Musashi Japanese Steakhouse      4.0  \n",
       "2517                   Cafe Breizh      4.5  \n",
       "4917                 Einstein Bros      3.0  \n",
       "17148                 Waffles Cafe      4.0  \n",
       "41501       Tropical Smoothie Cafe      3.0  "
      ]
     },
     "execution_count": 89,
     "metadata": {},
     "output_type": "execute_result"
    }
   ],
   "source": [
    "# Retrieve Top 10 similarity - Check\n",
    "pd.set_option('display.max_colwidth', None)\n",
    "df_nv.loc[df_nv['business_id'].isin(biz_list)][['business_id','categories','name_b','stars_b']].drop_duplicates(subset=['business_id'], keep='first').head(20)"
   ]
  },
  {
   "cell_type": "code",
   "execution_count": 90,
   "metadata": {},
   "outputs": [],
   "source": [
    "business_to_predict = [x for x in closest if x <= 0.55]"
   ]
  },
  {
   "cell_type": "code",
   "execution_count": null,
   "metadata": {},
   "outputs": [],
   "source": []
  }
 ],
 "metadata": {
  "kernelspec": {
   "display_name": "Python 3",
   "language": "python",
   "name": "python3"
  },
  "language_info": {
   "codemirror_mode": {
    "name": "ipython",
    "version": 3
   },
   "file_extension": ".py",
   "mimetype": "text/x-python",
   "name": "python",
   "nbconvert_exporter": "python",
   "pygments_lexer": "ipython3",
   "version": "3.8.5"
  }
 },
 "nbformat": 4,
 "nbformat_minor": 4
}
