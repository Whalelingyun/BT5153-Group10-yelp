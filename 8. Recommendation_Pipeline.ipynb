{
  "nbformat": 4,
  "nbformat_minor": 0,
  "metadata": {
    "colab": {
      "name": "Recommendation Pipeline.ipynb",
      "provenance": [],
      "collapsed_sections": [],
      "toc_visible": true
    },
    "kernelspec": {
      "name": "python3",
      "display_name": "Python 3"
    },
    "language_info": {
      "name": "python"
    }
  },
  "cells": [
    {
      "cell_type": "code",
      "metadata": {
        "id": "pCuHn6h-E_ot"
      },
      "source": [
        "import pandas as pd\n",
        "import numpy as np\n",
        "import re\n",
        "from textblob import TextBlob\n",
        "from sklearn.metrics import pairwise_distances\n",
        "\n",
        "from scipy.spatial.distance import cdist\n",
        "\n",
        "import os\n",
        "import re\n",
        "import string\n",
        "import pickle\n",
        "\n",
        "import nltk\n",
        "from nltk.tokenize import WordPunctTokenizer\n",
        "from nltk.corpus import stopwords\n",
        "from nltk.stem import SnowballStemmer\n",
        "\n",
        "from sklearn.feature_extraction.text import CountVectorizer"
      ],
      "execution_count": null,
      "outputs": []
    },
    {
      "cell_type": "markdown",
      "metadata": {
        "id": "co2bCAKHXU1k"
      },
      "source": [
        "## Generate Recommendation List From CB Filtering"
      ]
    },
    {
      "cell_type": "code",
      "metadata": {
        "id": "5qxnOAdLIMq0"
      },
      "source": [
        "df = pd.read_csv('/content/drive/MyDrive/yelp/filted_nv.csv')\n",
        "train_index = df[df.date < '2019-06-30'].index\n",
        "content_based_df = df.loc[train_index]"
      ],
      "execution_count": null,
      "outputs": []
    },
    {
      "cell_type": "code",
      "metadata": {
        "id": "Li44k8jhIi9j"
      },
      "source": [
        "def clean_text(text):\n",
        "## Remove puncuation\n",
        "    text = text.translate(string.punctuation)\n",
        "    \n",
        "    ## Convert words to lower case and split them\n",
        "    text = text.lower().split()\n",
        "    \n",
        "    ## Remove stop words\n",
        "    stops = set(stopwords.words(\"english\"))\n",
        "    text = [w for w in text if not w in stops and len(w) >= 3]\n",
        "    \n",
        "    text = \" \".join(text)\n",
        "    \n",
        "    # Clean the text\n",
        "    text = re.sub(r\"[^A-Za-z0-9^,!.\\/'+-=]\", \" \", text)\n",
        "    text = re.sub(r\"what's\", \"what is \", text)\n",
        "    text = re.sub(r\"\\'s\", \" \", text)\n",
        "    text = re.sub(r\"\\'ve\", \" have \", text)\n",
        "    text = re.sub(r\"n't\", \" not \", text)\n",
        "    text = re.sub(r\"i'm\", \"i am \", text)\n",
        "    text = re.sub(r\"\\'re\", \" are \", text)\n",
        "    text = re.sub(r\"\\'d\", \" would \", text)\n",
        "    text = re.sub(r\"\\'ll\", \" will \", text)\n",
        "    text = re.sub(r\",\", \" \", text)\n",
        "    text = re.sub(r\"\\.\", \" \", text)\n",
        "    text = re.sub(r\"!\", \" ! \", text)\n",
        "    text = re.sub(r\"\\/\", \" \", text)\n",
        "    text = re.sub(r\"\\^\", \" ^ \", text)\n",
        "    text = re.sub(r\"\\+\", \" + \", text)\n",
        "    text = re.sub(r\"\\-\", \" - \", text)\n",
        "    text = re.sub(r\"\\=\", \" = \", text)\n",
        "    text = re.sub(r\"'\", \" \", text)\n",
        "    text = re.sub(r\"(\\d+)(k)\", r\"\\g<1>000\", text)\n",
        "    text = re.sub(r\":\", \" : \", text)\n",
        "    text = re.sub(r\" e g \", \" eg \", text)\n",
        "    text = re.sub(r\" b g \", \" bg \", text)\n",
        "    text = re.sub(r\" u s \", \" american \", text)\n",
        "    text = re.sub(r\"\\0s\", \"0\", text)\n",
        "    text = re.sub(r\" 9 11 \", \"911\", text)\n",
        "    text = re.sub(r\"e - mail\", \"email\", text)\n",
        "    text = re.sub(r\"j k\", \"jk\", text)\n",
        "    text = re.sub(r\"\\s{2,}\", \" \", text)    \n",
        "    return text\n",
        "\n",
        "def get_positive_reviews(x):\n",
        "  positive_reviews = x[x.stars_r >= 3].clean_text\n",
        "  if len(positive_reviews) > 0:\n",
        "    positive_reviews = positive_reviews.to_list()\n",
        "  else:\n",
        "    positive_reviews = x.sort_values(by='stars_r',ascending=False)\n",
        "    positive_reviews = positive_reviews.clean_text.head(3).to_list()\n",
        "  positive_reviews = ' '.join(positive_reviews)\n",
        "  return positive_reviews\n",
        "\n",
        "def get_positive_categories(x):\n",
        "  positive_categories = x[x.stars_r >= 3].categories\n",
        "  if len(positive_categories) > 0:\n",
        "    positive_categories = positive_categories.to_list()\n",
        "  else:\n",
        "    positive_categories = x.sort_values(by='stars_r',ascending=False)\n",
        "    positive_categories = positive_categories.categories.head(3).to_list()\n",
        "  positive_categories = ', '.join(positive_categories)\n",
        "  return positive_categories\n",
        "\n",
        "def get_index_of_busid(x,business_id_list):\n",
        "  business_ids = x.business_id.to_list()\n",
        "  index_list = []\n",
        "  for current_id in business_ids:\n",
        "    index = business_id_list.index(current_id)\n",
        "    index_list.append(index)\n",
        "  return index_list"
      ],
      "execution_count": null,
      "outputs": []
    },
    {
      "cell_type": "code",
      "metadata": {
        "colab": {
          "base_uri": "https://localhost:8080/"
        },
        "id": "fUfqizfRIznZ",
        "outputId": "18af7231-c40e-4f47-f82c-1547aaa57db7"
      },
      "source": [
        "nltk.download('stopwords')\n",
        "content_based_df['clean_text'] = content_based_df['text'].apply(clean_text)"
      ],
      "execution_count": null,
      "outputs": [
        {
          "output_type": "stream",
          "text": [
            "[nltk_data] Downloading package stopwords to /root/nltk_data...\n",
            "[nltk_data]   Package stopwords is already up-to-date!\n"
          ],
          "name": "stdout"
        }
      ]
    },
    {
      "cell_type": "code",
      "metadata": {
        "id": "gfvrtAlRJIv-"
      },
      "source": [
        "vectorizer_reviews = CountVectorizer(min_df = .01,max_df = .99, tokenizer = WordPunctTokenizer().tokenize)\n",
        "vectorizer_reviews.fit(content_based_df['clean_text'])"
      ],
      "execution_count": null,
      "outputs": []
    },
    {
      "cell_type": "code",
      "metadata": {
        "id": "4SNxtbR8J-BK"
      },
      "source": [
        "vectorizer_categories = CountVectorizer(min_df = 1, max_df = 1., tokenizer = lambda x: x.split(', '))\n",
        "vectorizer_categories.fit(content_based_df['categories'])"
      ],
      "execution_count": null,
      "outputs": []
    },
    {
      "cell_type": "code",
      "metadata": {
        "id": "nrwcykMYKFsm"
      },
      "source": [
        "test_index = df[df.date >= '2019-06-30'].index\n",
        "test_df = df.loc[test_index][(df.loc[test_index].user_id.isin(train_df.user_id.unique())) & (df.loc[test_index].business_id.isin(train_df.business_id.unique()))]\n",
        "test_user = test_df.user_id.unique()"
      ],
      "execution_count": null,
      "outputs": []
    },
    {
      "cell_type": "code",
      "metadata": {
        "id": "5QShbzvfLaba"
      },
      "source": [
        "business_review = content_based_df.groupby('business_id').apply(lambda x: ' '.join(x.clean_text.tolist()))\n",
        "test_user_review = content_based_df[content_based_df['user_id'].isin(test_user)].groupby('user_id').apply(get_positive_reviews)"
      ],
      "execution_count": null,
      "outputs": []
    },
    {
      "cell_type": "code",
      "metadata": {
        "id": "wnzgavjgMN_F"
      },
      "source": [
        "business_category = content_based_df[['business_id','categories']].drop_duplicates().set_index('business_id')['categories'][business_review.index]\n",
        "test_user_category = content_based_df[content_based_df['user_id'].isin(test_user)].groupby('user_id').apply(get_positive_categories)[test_user_review.index]"
      ],
      "execution_count": null,
      "outputs": []
    },
    {
      "cell_type": "code",
      "metadata": {
        "id": "lFSkKPmIxWIh"
      },
      "source": [
        "business_id_list = list(business_review.index)\n",
        "places_to_exclude = content_based_df[content_based_df['user_id'].isin(test_user)].groupby('user_id').apply(lambda x: get_index_of_busid(x,business_id_list))\n",
        "places_to_exclude = places_to_exclude[test_user_review.index]"
      ],
      "execution_count": null,
      "outputs": []
    },
    {
      "cell_type": "code",
      "metadata": {
        "id": "AZNL5PPV1KSK"
      },
      "source": [
        "user_id_index = {}\n",
        "for index,item in enumerate(places_to_exclude.index):\n",
        "  user_id_index[item] = index"
      ],
      "execution_count": null,
      "outputs": []
    },
    {
      "cell_type": "code",
      "metadata": {
        "id": "4MPWhmnk1TzI"
      },
      "source": [
        "places_to_exclude = places_to_exclude.rename('bus_idx').reset_index().explode('bus_idx')\n",
        "places_to_exclude['user_idx'] = places_to_exclude['user_id'].apply(lambda x: user_id_index[x])\n",
        "places_to_exclude_list = [places_to_exclude.user_idx.tolist(),places_to_exclude.bus_idx.tolist()]"
      ],
      "execution_count": null,
      "outputs": []
    },
    {
      "cell_type": "code",
      "metadata": {
        "id": "pqDpmFuCO19V"
      },
      "source": [
        "dists_review = cdist(vectorizer_reviews.transform(test_user_review).todense(), \n",
        "            vectorizer_reviews.transform(business_review).todense(),\n",
        "            metric='correlation')"
      ],
      "execution_count": null,
      "outputs": []
    },
    {
      "cell_type": "code",
      "metadata": {
        "id": "A3PoEcEsSj8r"
      },
      "source": [
        "dists_category = cdist(vectorizer_categories.transform(test_user_category).todense(), \n",
        "            vectorizer_categories.transform(business_category).todense(),\n",
        "            metric='correlation')"
      ],
      "execution_count": null,
      "outputs": []
    },
    {
      "cell_type": "code",
      "metadata": {
        "id": "x87QwUdTTb3f"
      },
      "source": [
        "dists_together = (dists_category+dists_review)/2"
      ],
      "execution_count": null,
      "outputs": []
    },
    {
      "cell_type": "code",
      "metadata": {
        "colab": {
          "base_uri": "https://localhost:8080/"
        },
        "id": "YUWw13n8ToOe",
        "outputId": "7e54ca35-24b3-46ce-83a1-2c5410dcfe74"
      },
      "source": [
        "dists_review[places_to_exclude_list] = 1\n",
        "sorted_index = np.argsort(dists_together, axis=1)\n",
        "selected_index = sorted_index[:,:90]"
      ],
      "execution_count": null,
      "outputs": [
        {
          "output_type": "stream",
          "text": [
            "/usr/local/lib/python3.7/dist-packages/ipykernel_launcher.py:1: FutureWarning: Using a non-tuple sequence for multidimensional indexing is deprecated; use `arr[tuple(seq)]` instead of `arr[seq]`. In the future this will be interpreted as an array index, `arr[np.array(seq)]`, which will result either in an error or a different result.\n",
            "  \"\"\"Entry point for launching an IPython kernel.\n"
          ],
          "name": "stderr"
        }
      ]
    },
    {
      "cell_type": "code",
      "metadata": {
        "id": "jJ1kezx8WC3M"
      },
      "source": [
        "test_user_bus_recommend = {}\n",
        "business_id = business_review.index\n",
        "test_user_id = test_user_review.index\n",
        "for i in range(test_user_id.shape[0]):\n",
        "  test_user_bus_recommend[test_user_id[i]] = list(business_id[selected_index[i]])"
      ],
      "execution_count": null,
      "outputs": []
    },
    {
      "cell_type": "markdown",
      "metadata": {
        "id": "J2NsMXZYYUoT"
      },
      "source": [
        "## Predict Rating with K-means Cluster"
      ]
    },
    {
      "cell_type": "code",
      "metadata": {
        "id": "EFs-igTxtxGb"
      },
      "source": [
        "def generate_business_info(users_items_df,helpful_df):\n",
        "  business_id_info = {}\n",
        "  business_id = users_items_df.columns\n",
        "  for bus_id in business_id:\n",
        "    current_business = users_items_df[bus_id]\n",
        "    current_helpful = helpful_df[bus_id]\n",
        "    index = np.where(current_business>=1)[0]\n",
        "    current_rating = current_business[index].values\n",
        "    current_helpful = current_helpful[index].values\n",
        "    business_id_info[bus_id] = (index,current_rating,current_helpful)\n",
        "  return business_id_info\n",
        "\n",
        "def predict(model,users_items_df):\n",
        "  X = users_items_df.values\n",
        "  new_matrix = model.predict(X) * (X == 0)\n",
        "  new_users_items_df = pd.DataFrame(new_matrix, columns = users_items_df.columns, index = users_items_df.index)\n",
        "  new_users_items_df = new_users_items_df + users_items_df\n",
        "  return new_users_items_df\n",
        "\n",
        "def generate_user_id_index(test_user_matrix):\n",
        "  test_user_id_index = {}\n",
        "  for i in range(len(test_user_matrix.index)):\n",
        "    test_user_id_index[test_user_matrix.index[i]] = i\n",
        "  return test_user_id_index\n",
        "\n",
        "def predict_rating_helpful_cf(test_df,business_id_info,user_similarity,test_user_id_index,helpful_threhold,num_sim):\n",
        "  test_user_bus = test_df.to_dict('split')['data']\n",
        "  test_ratings = []\n",
        "  for i in test_user_bus:\n",
        "    user_index = test_user_id_index[i[0]]\n",
        "    current_sim = 1-user_similarity[user_index][business_id_info[i[1]][0]]\n",
        "    current_helpful = business_id_info[i[1]][2]\n",
        "    selected_index = np.where(current_helpful>=helpful_threhold)[0]\n",
        "    current_rating_list = business_id_info[i[1]][1]\n",
        "    if selected_index.shape[0]>0:\n",
        "      current_sim = current_sim[selected_index]\n",
        "      current_rating = current_rating_list[selected_index]\n",
        "    selected_index = np.argsort(current_sim)[-num_sim:]\n",
        "    current_sim = current_sim[selected_index]\n",
        "    current_rating_list = current_rating_list[selected_index]\n",
        "    current_rating = (current_sim * current_rating_list).sum()/current_sim.sum()\n",
        "    test_ratings.append(current_rating)\n",
        "  return test_ratings"
      ],
      "execution_count": null,
      "outputs": []
    },
    {
      "cell_type": "code",
      "metadata": {
        "id": "GRPBBh7BcFU6"
      },
      "source": [
        "test_df = pd.DataFrame()\n",
        "test_df['user_id'] = test_user_bus_recommend.keys()\n",
        "test_df['business_id'] = test_user_bus_recommend.values()\n",
        "test_df = test_df.explode('business_id')"
      ],
      "execution_count": null,
      "outputs": []
    },
    {
      "cell_type": "code",
      "metadata": {
        "id": "ybNqEsEDYkBm"
      },
      "source": [
        "df_bus_cluster = pd.read_csv('/content/drive/MyDrive/yelp/bus_cluster_km&hrc.csv')\n",
        "df_reviews_train = pd.read_csv('/content/drive/MyDrive/yelp/reviews_train.csv')\n",
        "df_reviews_train = df_reviews_train[['user_id','business_id','stars_r','opinion_rating','overal_rating','useful_pred']]\n",
        "df_reviews_train = df_reviews_train.merge(df_bus_cluster,on='business_id')"
      ],
      "execution_count": null,
      "outputs": []
    },
    {
      "cell_type": "code",
      "metadata": {
        "id": "cqv0CdkNZQv6"
      },
      "source": [
        "users_items_star_df = df_reviews_train.pivot_table(index = 'user_id', columns = 'cluster_kmeans', values = 'stars_r', aggfunc='mean').fillna(0)\n",
        "users_items_opinion_df = df_reviews_train.pivot_table(index = 'user_id', columns = 'cluster_kmeans', values = 'opinion_rating', aggfunc='mean').fillna(0)\n",
        "users_items_helpful_df = df_reviews_train.pivot_table(index = 'user_id', columns = 'cluster_kmeans', values = 'useful_pred', aggfunc='mean').fillna(0)"
      ],
      "execution_count": null,
      "outputs": []
    },
    {
      "cell_type": "code",
      "metadata": {
        "id": "FAr6Z1ZshQGF"
      },
      "source": [
        "business_id_info_star = generate_business_info(users_items_star_df,users_items_helpful_df)\n",
        "business_id_info_opinio = generate_business_info(users_items_opinion_df,users_items_helpful_df)"
      ],
      "execution_count": null,
      "outputs": []
    },
    {
      "cell_type": "code",
      "metadata": {
        "id": "8_6Dc7ZFZW5z"
      },
      "source": [
        "import tensorflow as tf\n",
        "# load the model trained in \"recommend_collaborative_filtering.ipynb\"\n",
        "model_star = tf.keras.models.load_model('/content/drive/MyDrive/yelp/kmeans/auto_encode_km_star')\n",
        "model_opinion = tf.keras.models.load_model('/content/drive/MyDrive/yelp/kmeans/auto_encode_km_opinion')"
      ],
      "execution_count": null,
      "outputs": []
    },
    {
      "cell_type": "code",
      "metadata": {
        "id": "9zPCpTPWZsDn"
      },
      "source": [
        "users_items_star_df = predict(model_star, users_items_star_df)\n",
        "users_items_opinion_df = predict(model_opinion, users_items_opinion_df)"
      ],
      "execution_count": null,
      "outputs": []
    },
    {
      "cell_type": "code",
      "metadata": {
        "id": "ixtt5InjaCc6"
      },
      "source": [
        "test_user_star_matrix = users_items_star_df.loc[list(test_df.user_id.unique())]\n",
        "user_similarity_star = pairwise_distances(test_user_star_matrix, users_items_star_df, metric='cosine')"
      ],
      "execution_count": null,
      "outputs": []
    },
    {
      "cell_type": "code",
      "metadata": {
        "id": "DwMyToiMaQRA"
      },
      "source": [
        "test_user_opinion_matrix = users_items_opinion_df.loc[list(test_df.user_id.unique())]\n",
        "user_similarity_opinion = pairwise_distances(test_user_opinion_matrix, users_items_opinion_df, metric='cosine')"
      ],
      "execution_count": null,
      "outputs": []
    },
    {
      "cell_type": "code",
      "metadata": {
        "id": "kndZuapbakcm"
      },
      "source": [
        "test_user_id_index_star = generate_user_id_index(test_user_star_matrix)\n",
        "star_ratings = predict_rating_helpful_cf(test_df,business_id_info_star,user_similarity_star,test_user_id_index_star,0.01,50)\n",
        "test_df['predict_rating_star'] = star_ratings"
      ],
      "execution_count": null,
      "outputs": []
    },
    {
      "cell_type": "code",
      "metadata": {
        "id": "wRJQXF6MclyG"
      },
      "source": [
        "test_user_id_index_opinion = generate_user_id_index(test_user_opinion_matrix)\n",
        "opinion_ratings = predict_rating_helpful_cf(test_df,business_id_info_opinion,user_similarity_opinion,test_user_id_index_opinion,0.01,50)\n",
        "test_df['predict_rating_opinion'] = opinion_ratings"
      ],
      "execution_count": null,
      "outputs": []
    },
    {
      "cell_type": "code",
      "metadata": {
        "id": "hahvwqftepAW"
      },
      "source": [
        "test_df['predict_rating_overal'] = (test_df['predict_rating_star']+test_df['predict_rating_opinion'])/2"
      ],
      "execution_count": null,
      "outputs": []
    },
    {
      "cell_type": "code",
      "metadata": {
        "id": "GGp0edfT6E6w"
      },
      "source": [
        "for i in [5,10]:\n",
        "  recommended_df = test_df.groupby('user_id').apply(lambda x: x.sort_values('predict_rating_overal',ascending=False).head(i)['business_id'].to_list()).rename('business_id').reset_index()\n",
        "  recommended_df.to_csv('/content/drive/MyDrive/yelp/pipeline/final_recommendation_km_{}_v3.csv'.format(i),index=None)"
      ],
      "execution_count": null,
      "outputs": []
    },
    {
      "cell_type": "markdown",
      "metadata": {
        "id": "5X_Ee9538W1J"
      },
      "source": [
        "## Evaluate Recommendation System"
      ]
    },
    {
      "cell_type": "code",
      "metadata": {
        "id": "P6hSfN8KwRa8"
      },
      "source": [
        "actual_df = pd.read_csv('/content/drive/MyDrive/yelp/test_rating.csv')\n",
        "business_feature = pd.read_csv('/content/drive/MyDrive/yelp/business_train_features.csv')\n",
        "\n",
        "metric_dict = {}\n",
        "for version in [1,2,3]:\n",
        "  for num in [5,10]:\n",
        "    metric_dict[(version*30,num)] = []\n",
        "    recommend_df = pd.read_csv('/content/drive/MyDrive/yelp/pipeline/final_recommendation_km_{}_v{}.csv'.format(num,version))\n",
        "    recommend_df['business_id'] = recommend_df['business_id'].apply(eval)\n",
        "    # diversity\n",
        "    business_feature_list = business_feature.set_index('business_id').to_dict('split')['data']\n",
        "    business_feature_dict = {}\n",
        "    business_id_list = business_feature.business_id.tolist()\n",
        "    for idx in range(len(business_id_list)):\n",
        "      business_feature_dict[business_id_list[idx]] = business_feature_list[idx]\n",
        "    diversity_list = []\n",
        "    for business_ids in recommend_df['business_id'].values:\n",
        "      feature_matrix = []\n",
        "      for business_id in business_ids:\n",
        "        current_feature = business_feature_dict[business_id]\n",
        "        feature_matrix.append(current_feature)\n",
        "      feature_matrix = np.array(feature_matrix)\n",
        "      dist_matrix = pairwise_distances(feature_matrix,metric='cosine')\n",
        "      total_sim = 0\n",
        "      total_count = 0\n",
        "      for i in range(dist_matrix.shape[0]):\n",
        "        for j in range(i+1, dist_matrix.shape[0]):\n",
        "          current_sim = dist_matrix[i,j]\n",
        "          total_sim += current_sim\n",
        "          total_count += 1\n",
        "      diversity_list.append(total_sim/total_count)\n",
        "    metric_dict[(version*30,num)].append(np.mean(diversity_list))\n",
        "\n",
        "    # Personalization\n",
        "    recommend_df = recommend_df.explode('business_id')\n",
        "    recommend_df['recommended'] = 1\n",
        "    user_item_df = recommend_df.pivot_table(index = 'user_id', columns = 'business_id', values = 'recommended', aggfunc='mean').fillna(0)\n",
        "    pairwise_sim = pairwise_distances(user_item_df, metric='cosine')\n",
        "\n",
        "    total_sim = 0\n",
        "    total_count = 0\n",
        "    for i in range(pairwise_sim.shape[0]):\n",
        "      for j in range(i+1, pairwise_sim.shape[0]):\n",
        "        current_sim = (1-pairwise_sim[i,j])\n",
        "        total_sim += current_sim\n",
        "        total_count += 1\n",
        "    metric_dict[(version*30,num)].append(total_sim/total_count)\n",
        "\n",
        "    # Satisfaction\n",
        "    intersect_df = actual_df[['user_id','business_id','stars_r']].merge(recommend_df,on=['user_id','business_id'])\n",
        "    num_intersect = len(intersect_df)\n",
        "    metric_dict[(version*30,num)].append(num_intersect)\n",
        "    star_above = intersect_df.stars_r.mean()-actual_df.stars_r.mean()\n",
        "    metric_dict[(version*30,num)].append(star_above)\n",
        "\n",
        "    # Coverage\n",
        "    train_df = pd.read_csv('/content/drive/MyDrive/yelp/reviews_train.csv')\n",
        "    num_total_bus = train_df.business_id.unique().shape[0]\n",
        "    num_recommend_bus = recommend_df['business_id'].unique().shape[0]\n",
        "    metric_dict[(version*30,num)].append(num_recommend_bus/num_total_bus)"
      ],
      "execution_count": null,
      "outputs": []
    },
    {
      "cell_type": "code",
      "metadata": {
        "colab": {
          "base_uri": "https://localhost:8080/",
          "height": 225
        },
        "id": "17Qr6ivGx-Re",
        "outputId": "92e724d9-39d3-4569-e3f2-4467b91c2009"
      },
      "source": [
        "result = pd.DataFrame(metric_dict,index=['diversity','personalization','number_in_actual','satisfaction','coverage'])\n",
        "result"
      ],
      "execution_count": null,
      "outputs": [
        {
          "output_type": "execute_result",
          "data": {
            "text/html": [
              "<div>\n",
              "<style scoped>\n",
              "    .dataframe tbody tr th:only-of-type {\n",
              "        vertical-align: middle;\n",
              "    }\n",
              "\n",
              "    .dataframe tbody tr th {\n",
              "        vertical-align: top;\n",
              "    }\n",
              "\n",
              "    .dataframe thead tr th {\n",
              "        text-align: left;\n",
              "    }\n",
              "</style>\n",
              "<table border=\"1\" class=\"dataframe\">\n",
              "  <thead>\n",
              "    <tr>\n",
              "      <th></th>\n",
              "      <th colspan=\"2\" halign=\"left\">30</th>\n",
              "      <th colspan=\"2\" halign=\"left\">60</th>\n",
              "      <th colspan=\"2\" halign=\"left\">90</th>\n",
              "    </tr>\n",
              "    <tr>\n",
              "      <th></th>\n",
              "      <th>5</th>\n",
              "      <th>10</th>\n",
              "      <th>5</th>\n",
              "      <th>10</th>\n",
              "      <th>5</th>\n",
              "      <th>10</th>\n",
              "    </tr>\n",
              "  </thead>\n",
              "  <tbody>\n",
              "    <tr>\n",
              "      <th>diversity</th>\n",
              "      <td>0.000138</td>\n",
              "      <td>0.000136</td>\n",
              "      <td>0.000157</td>\n",
              "      <td>0.000154</td>\n",
              "      <td>0.000169</td>\n",
              "      <td>0.000166</td>\n",
              "    </tr>\n",
              "    <tr>\n",
              "      <th>personalization</th>\n",
              "      <td>0.013921</td>\n",
              "      <td>0.016082</td>\n",
              "      <td>0.021032</td>\n",
              "      <td>0.024440</td>\n",
              "      <td>0.027368</td>\n",
              "      <td>0.031338</td>\n",
              "    </tr>\n",
              "    <tr>\n",
              "      <th>number_in_actual</th>\n",
              "      <td>124.000000</td>\n",
              "      <td>250.000000</td>\n",
              "      <td>90.000000</td>\n",
              "      <td>174.000000</td>\n",
              "      <td>75.000000</td>\n",
              "      <td>146.000000</td>\n",
              "    </tr>\n",
              "    <tr>\n",
              "      <th>satisfaction</th>\n",
              "      <td>0.392540</td>\n",
              "      <td>0.386927</td>\n",
              "      <td>0.502038</td>\n",
              "      <td>0.518514</td>\n",
              "      <td>0.604261</td>\n",
              "      <td>0.423804</td>\n",
              "    </tr>\n",
              "    <tr>\n",
              "      <th>coverage</th>\n",
              "      <td>0.393256</td>\n",
              "      <td>0.573634</td>\n",
              "      <td>0.283567</td>\n",
              "      <td>0.418647</td>\n",
              "      <td>0.225269</td>\n",
              "      <td>0.340849</td>\n",
              "    </tr>\n",
              "  </tbody>\n",
              "</table>\n",
              "</div>"
            ],
            "text/plain": [
              "                          30              ...         90            \n",
              "                          5           10  ...         5           10\n",
              "diversity           0.000138    0.000136  ...   0.000169    0.000166\n",
              "personalization     0.013921    0.016082  ...   0.027368    0.031338\n",
              "number_in_actual  124.000000  250.000000  ...  75.000000  146.000000\n",
              "satisfaction        0.392540    0.386927  ...   0.604261    0.423804\n",
              "coverage            0.393256    0.573634  ...   0.225269    0.340849\n",
              "\n",
              "[5 rows x 6 columns]"
            ]
          },
          "metadata": {
            "tags": []
          },
          "execution_count": 3
        }
      ]
    },
    {
      "cell_type": "code",
      "metadata": {
        "colab": {
          "base_uri": "https://localhost:8080/"
        },
        "id": "PyX88-DJ8XoX",
        "outputId": "09337dc1-2d85-4b58-bdf7-76c18ce72289"
      },
      "source": [
        "result.loc['satisfaction']+actual_df.stars_r.mean()"
      ],
      "execution_count": null,
      "outputs": [
        {
          "output_type": "execute_result",
          "data": {
            "text/plain": [
              "30  5     4.201613\n",
              "    10    4.196000\n",
              "60  5     4.311111\n",
              "    10    4.327586\n",
              "90  5     4.413333\n",
              "    10    4.232877\n",
              "Name: satisfaction, dtype: float64"
            ]
          },
          "metadata": {
            "tags": []
          },
          "execution_count": 7
        }
      ]
    },
    {
      "cell_type": "code",
      "metadata": {
        "id": "ie4YGHKN9d5P"
      },
      "source": [],
      "execution_count": null,
      "outputs": []
    }
  ]
}